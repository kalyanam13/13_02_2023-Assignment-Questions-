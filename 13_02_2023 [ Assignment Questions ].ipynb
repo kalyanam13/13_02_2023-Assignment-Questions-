{
 "cells": [
  {
   "cell_type": "markdown",
   "id": "b3795ee4",
   "metadata": {},
   "source": [
    "# PW SKILLS [ EXCEPTION HANDLING-2]"
   ]
  },
  {
   "cell_type": "markdown",
   "id": "dee89183",
   "metadata": {},
   "source": [
    "### Question no.1: Explain why we have to use the Exception class while creating a Custom Exception.\n",
    "### Note: Here Exception class refers to the base class for all the exceptions.\n",
    "### Answer: When creating a custom exception in Python, it is recommended to inherit from the Exception class, which is the base class for all built-in exceptions.\n",
    "\n",
    "### Inheriting from the Exception class allows your custom exception to have access to all the properties and methods of the base class, such as __str__ and __repr__, which are useful for creating a string representation of the exception when it is raised.\n",
    "\n",
    "### Additionally, using the Exception class as a base class ensures that your custom exception is compatible with the existing exception handling mechanisms in Python. When you raise a custom exception that inherits from the Exception class, it can be caught by any try/except blocks that are set up to catch exceptions of that type.\n",
    "\n",
    "### Therefore, using the Exception class as a base class while creating a custom exception is considered good practice as it provides the necessary functionalities and ensures compatibility with existing exception handling mechanisms."
   ]
  },
  {
   "cell_type": "markdown",
   "id": "059b51d3",
   "metadata": {},
   "source": [
    "### Question no.2: Write a python program to print Python Exception Hierarchy.\n",
    "### Answer: Sure, here's a Python program that prints the Python exception hierarchy:"
   ]
  },
  {
   "cell_type": "code",
   "execution_count": 4,
   "id": "d9da3d00",
   "metadata": {},
   "outputs": [
    {
     "name": "stdout",
     "output_type": "stream",
     "text": [
      "Exception\n",
      "<class 'BaseException'> 2\n"
     ]
    }
   ],
   "source": [
    "# Define a function to print the exception hierarchy\n",
    "def print_exception_hierarchy(exception_class , indent = 0):\n",
    "# Print the current exception class and its base classes    \n",
    "    print(' '*indent + exception_class.__name__)\n",
    "    for base_class in exception_class.__bases__:\n",
    "        print(base_class , indent + 2)\n",
    "        \n",
    "# Print the exception hierarchy starting with the base Exception class        \n",
    "print_exception_hierarchy(Exception)        "
   ]
  },
  {
   "cell_type": "markdown",
   "id": "f7842707",
   "metadata": {},
   "source": [
    "### This program defines a function called print_exception_hierarchy that takes an exception class as its argument and prints out the exception hierarchy for that class. The function uses recursion to print out the hierarchy for each base class of the exception.\n",
    "\n",
    "### To use the function, we call it with the base Exception class as the argument, like this:"
   ]
  },
  {
   "cell_type": "code",
   "execution_count": 5,
   "id": "ba085be9",
   "metadata": {},
   "outputs": [
    {
     "name": "stdout",
     "output_type": "stream",
     "text": [
      "Exception\n",
      "<class 'BaseException'> 2\n"
     ]
    }
   ],
   "source": [
    "print_exception_hierarchy(Exception)\n"
   ]
  },
  {
   "cell_type": "markdown",
   "id": "c5cdd743",
   "metadata": {},
   "source": [
    "### This will print out the entire Python exception hierarchy, starting with the base Exception class and going all the way down to the most specific exceptions.\n"
   ]
  },
  {
   "cell_type": "markdown",
   "id": "e2d5d81f",
   "metadata": {},
   "source": [
    "### Question no.3: What errors are defined in the ArithmeticError class? Explain any two with an example.\n",
    "### Answer: The ArithmeticError class is a built-in Python exception class that is the base class for all errors that occur during arithmetic operations. Some of the specific errors that are defined as sub-classes of ArithmeticError include:\n",
    "\n",
    "### 1. ZeroDivisionError: This error occurs when we try to divide a number by zero. For example:"
   ]
  },
  {
   "cell_type": "code",
   "execution_count": 7,
   "id": "870f7e56",
   "metadata": {},
   "outputs": [
    {
     "ename": "ZeroDivisionError",
     "evalue": "division by zero",
     "output_type": "error",
     "traceback": [
      "\u001b[1;31m---------------------------------------------------------------------------\u001b[0m",
      "\u001b[1;31mZeroDivisionError\u001b[0m                         Traceback (most recent call last)",
      "\u001b[1;32m~\\AppData\\Local\\Temp\\ipykernel_6716\\1122534423.py\u001b[0m in \u001b[0;36m<module>\u001b[1;34m\u001b[0m\n\u001b[0;32m      1\u001b[0m \u001b[0mx\u001b[0m \u001b[1;33m=\u001b[0m \u001b[1;36m10\u001b[0m\u001b[1;33m\u001b[0m\u001b[1;33m\u001b[0m\u001b[0m\n\u001b[0;32m      2\u001b[0m \u001b[0my\u001b[0m \u001b[1;33m=\u001b[0m \u001b[1;36m0\u001b[0m\u001b[1;33m\u001b[0m\u001b[1;33m\u001b[0m\u001b[0m\n\u001b[1;32m----> 3\u001b[1;33m \u001b[0mz\u001b[0m \u001b[1;33m=\u001b[0m \u001b[0mx\u001b[0m\u001b[1;33m/\u001b[0m\u001b[0my\u001b[0m\u001b[1;33m\u001b[0m\u001b[1;33m\u001b[0m\u001b[0m\n\u001b[0m",
      "\u001b[1;31mZeroDivisionError\u001b[0m: division by zero"
     ]
    }
   ],
   "source": [
    "x = 10\n",
    "y = 0\n",
    "z = x/y"
   ]
  },
  {
   "cell_type": "markdown",
   "id": "1ec1e9df",
   "metadata": {},
   "source": [
    "### In this example, we try to divide the number 10 by 0, which raises a ZeroDivisionError.\n",
    "\n",
    "### 2. OverflowError: This error occurs when we try to perform an arithmetic operation that results in a number that is too large to be represented by the computer's memory. For example:"
   ]
  },
  {
   "cell_type": "code",
   "execution_count": 20,
   "id": "bde7f1e2",
   "metadata": {},
   "outputs": [
    {
     "data": {
      "text/plain": [
       "9223372036854775807"
      ]
     },
     "execution_count": 20,
     "metadata": {},
     "output_type": "execute_result"
    }
   ],
   "source": [
    "import sys\n",
    "sys.maxsize"
   ]
  },
  {
   "cell_type": "code",
   "execution_count": 21,
   "id": "f044786d",
   "metadata": {},
   "outputs": [],
   "source": [
    "x = sys.maxsize\n",
    "y = x*x"
   ]
  },
  {
   "cell_type": "markdown",
   "id": "dfd4d5c5",
   "metadata": {},
   "source": [
    "### In this example, we try to multiply the largest possible integer on our system (sys.maxsize) by itself, which raises an OverflowError because the resulting number is too large to be represented as an integer.\n",
    "\n",
    "### Note that these are just two examples of the many errors that are defined in the ArithmeticError class. Other errors include FloatingPointError, AssertionError, and ValueError, among others."
   ]
  },
  {
   "cell_type": "markdown",
   "id": "9b6f0c9e",
   "metadata": {},
   "source": [
    "### Question no.4: Why LookupError class is used ? Explain with an example KeyError and IndexError.\n",
    "### Answer: The LookupError class is a built-in Python exception class that serves as the base class for all errors that occur when trying to access a non-existent element or value in a sequence, mapping, or other data structure. The specific errors that are defined as sub-classes of LookupError include IndexError, KeyError, and NameError, among others.\n",
    "\n",
    "### KeyError and IndexError are two commonly used exceptions that are derived from LookupError:\n",
    "\n",
    "### 1. KeyError: This error is raised when we try to access a dictionary key that does not exist. For example:"
   ]
  },
  {
   "cell_type": "code",
   "execution_count": 23,
   "id": "8369d9e9",
   "metadata": {},
   "outputs": [
    {
     "ename": "KeyError",
     "evalue": "'c'",
     "output_type": "error",
     "traceback": [
      "\u001b[1;31m---------------------------------------------------------------------------\u001b[0m",
      "\u001b[1;31mKeyError\u001b[0m                                  Traceback (most recent call last)",
      "\u001b[1;32m~\\AppData\\Local\\Temp\\ipykernel_6716\\2950842891.py\u001b[0m in \u001b[0;36m<module>\u001b[1;34m\u001b[0m\n\u001b[0;32m      1\u001b[0m \u001b[0md\u001b[0m \u001b[1;33m=\u001b[0m \u001b[1;33m{\u001b[0m\u001b[1;34m'a'\u001b[0m \u001b[1;33m:\u001b[0m \u001b[1;36m1\u001b[0m \u001b[1;33m,\u001b[0m \u001b[1;34m'b'\u001b[0m \u001b[1;33m:\u001b[0m \u001b[1;36m2\u001b[0m \u001b[1;33m}\u001b[0m\u001b[1;33m\u001b[0m\u001b[1;33m\u001b[0m\u001b[0m\n\u001b[1;32m----> 2\u001b[1;33m \u001b[0md\u001b[0m\u001b[1;33m[\u001b[0m\u001b[1;34m'c'\u001b[0m\u001b[1;33m]\u001b[0m\u001b[1;33m\u001b[0m\u001b[1;33m\u001b[0m\u001b[0m\n\u001b[0m",
      "\u001b[1;31mKeyError\u001b[0m: 'c'"
     ]
    }
   ],
   "source": [
    "d = {'a' : 1 , 'b' : 2 }\n",
    "d['c']"
   ]
  },
  {
   "cell_type": "markdown",
   "id": "1538d647",
   "metadata": {},
   "source": [
    "### In this example, we try to access the key 'c' in a dictionary d that does not exist, which raises a KeyError.\n",
    "\n",
    "### 2. IndexError: This error is raised when we try to access a list or other sequence at an index that is out of range. For example:"
   ]
  },
  {
   "cell_type": "code",
   "execution_count": 24,
   "id": "ad2428c3",
   "metadata": {},
   "outputs": [
    {
     "ename": "IndexError",
     "evalue": "list index out of range",
     "output_type": "error",
     "traceback": [
      "\u001b[1;31m---------------------------------------------------------------------------\u001b[0m",
      "\u001b[1;31mIndexError\u001b[0m                                Traceback (most recent call last)",
      "\u001b[1;32m~\\AppData\\Local\\Temp\\ipykernel_6716\\1737017153.py\u001b[0m in \u001b[0;36m<module>\u001b[1;34m\u001b[0m\n\u001b[0;32m      1\u001b[0m \u001b[0ml\u001b[0m \u001b[1;33m=\u001b[0m \u001b[1;33m[\u001b[0m\u001b[1;36m1\u001b[0m\u001b[1;33m,\u001b[0m\u001b[1;36m2\u001b[0m\u001b[1;33m,\u001b[0m\u001b[1;36m3\u001b[0m\u001b[1;33m]\u001b[0m\u001b[1;33m\u001b[0m\u001b[1;33m\u001b[0m\u001b[0m\n\u001b[1;32m----> 2\u001b[1;33m \u001b[0ml\u001b[0m\u001b[1;33m[\u001b[0m\u001b[1;36m3\u001b[0m\u001b[1;33m]\u001b[0m\u001b[1;33m\u001b[0m\u001b[1;33m\u001b[0m\u001b[0m\n\u001b[0m",
      "\u001b[1;31mIndexError\u001b[0m: list index out of range"
     ]
    }
   ],
   "source": [
    "l = [1,2,3]\n",
    "l[3]"
   ]
  },
  {
   "cell_type": "markdown",
   "id": "d34ac24c",
   "metadata": {},
   "source": [
    "### In this example, we try to access the fourth element (at index 3) in a list l that only has three elements, which raises an IndexError.\n",
    "\n",
    "### Both KeyError and IndexError are subclasses of LookupError, since they both occur when we try to access an element or value that does not exist. By catching the base LookupError exception, we can handle both KeyError and IndexError in the same block of code, which can be useful for handling missing or invalid input data in our programs."
   ]
  },
  {
   "cell_type": "markdown",
   "id": "b813110f",
   "metadata": {},
   "source": [
    "### Question no.5: Explain ImportError. What is ModuleNotFoundError?\n",
    "### Answer: Both ImportError and ModuleNotFoundError are exceptions that can occur in Python when importing modules. Here's an explanation of each:\n",
    "\n",
    "### *ImportError: This is a general exception that is raised when an imported module fails to load or when an imported module has an attribute that cannot be found. This can happen when the module you are trying to import is not installed or when there is an error in the module code that prevents it from being loaded correctly.\n",
    "\n",
    "### *ModuleNotFoundError: This is a more specific exception that is raised when an imported module cannot be found in the current scope. It is raised when Python cannot locate the module you are trying to import, either because it is not installed or because the import statement has a typo or other error.\n",
    "\n",
    "### In summary, ImportError is a more general exception that can be raised when there is an issue with an imported module, while ModuleNotFoundError is a more specific exception that is raised when the module itself cannot be found."
   ]
  },
  {
   "cell_type": "markdown",
   "id": "a4cfc9bc",
   "metadata": {},
   "source": [
    "### Question no.6: List down some best practices for exception handling in python.\n",
    "### Answer: Here are some best practices for exception handling in Python:\n",
    "\n",
    "### 1. Be specific: Catch only the exceptions that you expect to be raised and avoid using a broad exception such as Exception or BaseException.\n",
    "\n",
    "### 2. Use try-except blocks: Use a try-except block to catch exceptions and handle them in a meaningful way. This helps to prevent your program from crashing or returning incorrect results.\n",
    "\n",
    "### 3. Provide informative error messages: When an exception occurs, provide an informative error message that explains what went wrong and how to fix it. This will help users to understand what happened and take corrective actions.\n",
    "\n",
    "### 4. Use finally block: Use a finally block to clean up resources such as closing files, releasing database connections, etc. This ensures that the resources are always released even if an exception is raised.\n",
    "\n",
    "### 5. Don't suppress exceptions: Avoid suppressing exceptions by catching them and not doing anything. This can make it difficult to diagnose problems and can result in unexpected behavior.\n",
    "\n",
    "### 6. Raise custom exceptions: When developing libraries or modules, raise custom exceptions to make it easier for users to understand what went wrong and how to handle it.\n",
    "\n",
    "### 7. Use context managers: Use context managers such as the with statement to ensure that resources are properly managed and exceptions are handled appropriately.\n",
    "\n",
    "### 8. Use logging: Use the logging module to log error messages and exceptions. This can help you diagnose problems and troubleshoot issues.\n",
    "\n",
    "### 9. Test your code: Test your code with both expected and unexpected inputs to ensure that it handles exceptions appropriately and returns the expected results.\n",
    "\n",
    "### By following these best practices, you can write Python code that is more robust, maintainable, and user-friendly."
   ]
  },
  {
   "cell_type": "code",
   "execution_count": null,
   "id": "30192fbc",
   "metadata": {},
   "outputs": [],
   "source": []
  }
 ],
 "metadata": {
  "kernelspec": {
   "display_name": "Python 3 (ipykernel)",
   "language": "python",
   "name": "python3"
  },
  "language_info": {
   "codemirror_mode": {
    "name": "ipython",
    "version": 3
   },
   "file_extension": ".py",
   "mimetype": "text/x-python",
   "name": "python",
   "nbconvert_exporter": "python",
   "pygments_lexer": "ipython3",
   "version": "3.9.13"
  }
 },
 "nbformat": 4,
 "nbformat_minor": 5
}
